{
 "cells": [
  {
   "cell_type": "markdown",
   "metadata": {},
   "source": [
    "## Deliverable 3. Create a Travel Itinerary Map."
   ]
  },
  {
   "cell_type": "code",
   "execution_count": 1,
   "metadata": {},
   "outputs": [],
   "source": [
    "# Dependencies and Setup\n",
    "import pandas as pd\n",
    "import requests\n",
    "import gmaps\n",
    "\n",
    "# Import API key\n",
    "from config import g_key\n",
    "\n",
    "# Configure gmaps\n",
    "gmaps.configure(api_key=g_key)"
   ]
  },
  {
   "cell_type": "code",
   "execution_count": 2,
   "metadata": {
    "scrolled": false
   },
   "outputs": [
    {
     "data": {
      "text/html": [
       "<div>\n",
       "<style scoped>\n",
       "    .dataframe tbody tr th:only-of-type {\n",
       "        vertical-align: middle;\n",
       "    }\n",
       "\n",
       "    .dataframe tbody tr th {\n",
       "        vertical-align: top;\n",
       "    }\n",
       "\n",
       "    .dataframe thead th {\n",
       "        text-align: right;\n",
       "    }\n",
       "</style>\n",
       "<table border=\"1\" class=\"dataframe\">\n",
       "  <thead>\n",
       "    <tr style=\"text-align: right;\">\n",
       "      <th></th>\n",
       "      <th>City_ID</th>\n",
       "      <th>City</th>\n",
       "      <th>Country</th>\n",
       "      <th>Max Temp</th>\n",
       "      <th>Weather Discription</th>\n",
       "      <th>Lat</th>\n",
       "      <th>Lng</th>\n",
       "      <th>Hotel Name</th>\n",
       "    </tr>\n",
       "  </thead>\n",
       "  <tbody>\n",
       "    <tr>\n",
       "      <th>0</th>\n",
       "      <td>5</td>\n",
       "      <td>Arraial Do Cabo</td>\n",
       "      <td>BR</td>\n",
       "      <td>73.26</td>\n",
       "      <td>clear sky</td>\n",
       "      <td>-22.9661</td>\n",
       "      <td>-42.0278</td>\n",
       "      <td>Pousada Porto Praia</td>\n",
       "    </tr>\n",
       "    <tr>\n",
       "      <th>1</th>\n",
       "      <td>7</td>\n",
       "      <td>Bengkulu</td>\n",
       "      <td>ID</td>\n",
       "      <td>76.03</td>\n",
       "      <td>overcast clouds</td>\n",
       "      <td>-3.8004</td>\n",
       "      <td>102.2655</td>\n",
       "      <td>Grage Hotel Bengkulu</td>\n",
       "    </tr>\n",
       "    <tr>\n",
       "      <th>2</th>\n",
       "      <td>13</td>\n",
       "      <td>Rikitea</td>\n",
       "      <td>PF</td>\n",
       "      <td>77.59</td>\n",
       "      <td>moderate rain</td>\n",
       "      <td>-23.1203</td>\n",
       "      <td>-134.9692</td>\n",
       "      <td>People ThankYou</td>\n",
       "    </tr>\n",
       "    <tr>\n",
       "      <th>3</th>\n",
       "      <td>15</td>\n",
       "      <td>Sao Joao Da Barra</td>\n",
       "      <td>BR</td>\n",
       "      <td>73.38</td>\n",
       "      <td>scattered clouds</td>\n",
       "      <td>-21.6403</td>\n",
       "      <td>-41.0511</td>\n",
       "      <td>Pousada Porto De Canoas</td>\n",
       "    </tr>\n",
       "    <tr>\n",
       "      <th>4</th>\n",
       "      <td>19</td>\n",
       "      <td>Matara</td>\n",
       "      <td>LK</td>\n",
       "      <td>79.54</td>\n",
       "      <td>overcast clouds</td>\n",
       "      <td>5.9485</td>\n",
       "      <td>80.5353</td>\n",
       "      <td>Amaloh Boutique Resort</td>\n",
       "    </tr>\n",
       "    <tr>\n",
       "      <th>5</th>\n",
       "      <td>23</td>\n",
       "      <td>Mackay</td>\n",
       "      <td>AU</td>\n",
       "      <td>74.68</td>\n",
       "      <td>overcast clouds</td>\n",
       "      <td>-21.1500</td>\n",
       "      <td>149.2000</td>\n",
       "      <td>International Lodge Motel</td>\n",
       "    </tr>\n",
       "    <tr>\n",
       "      <th>6</th>\n",
       "      <td>25</td>\n",
       "      <td>Karratha</td>\n",
       "      <td>AU</td>\n",
       "      <td>74.70</td>\n",
       "      <td>clear sky</td>\n",
       "      <td>-20.7377</td>\n",
       "      <td>116.8463</td>\n",
       "      <td>ibis Styles Karratha</td>\n",
       "    </tr>\n",
       "    <tr>\n",
       "      <th>7</th>\n",
       "      <td>26</td>\n",
       "      <td>Lompoc</td>\n",
       "      <td>US</td>\n",
       "      <td>78.69</td>\n",
       "      <td>clear sky</td>\n",
       "      <td>34.6391</td>\n",
       "      <td>-120.4579</td>\n",
       "      <td>Holiday Inn Express Lompoc, an IHG Hotel</td>\n",
       "    </tr>\n",
       "    <tr>\n",
       "      <th>8</th>\n",
       "      <td>33</td>\n",
       "      <td>Puerto Ayora</td>\n",
       "      <td>EC</td>\n",
       "      <td>76.96</td>\n",
       "      <td>overcast clouds</td>\n",
       "      <td>-0.7393</td>\n",
       "      <td>-90.3518</td>\n",
       "      <td>Finch Bay Galapagos Hotel</td>\n",
       "    </tr>\n",
       "    <tr>\n",
       "      <th>9</th>\n",
       "      <td>37</td>\n",
       "      <td>Suleja</td>\n",
       "      <td>NG</td>\n",
       "      <td>74.82</td>\n",
       "      <td>overcast clouds</td>\n",
       "      <td>9.1758</td>\n",
       "      <td>7.1808</td>\n",
       "      <td>Capy Motel</td>\n",
       "    </tr>\n",
       "  </tbody>\n",
       "</table>\n",
       "</div>"
      ],
      "text/plain": [
       "   City_ID               City Country  Max Temp Weather Discription      Lat  \\\n",
       "0        5    Arraial Do Cabo      BR     73.26           clear sky -22.9661   \n",
       "1        7           Bengkulu      ID     76.03     overcast clouds  -3.8004   \n",
       "2       13            Rikitea      PF     77.59       moderate rain -23.1203   \n",
       "3       15  Sao Joao Da Barra      BR     73.38    scattered clouds -21.6403   \n",
       "4       19             Matara      LK     79.54     overcast clouds   5.9485   \n",
       "5       23             Mackay      AU     74.68     overcast clouds -21.1500   \n",
       "6       25           Karratha      AU     74.70           clear sky -20.7377   \n",
       "7       26             Lompoc      US     78.69           clear sky  34.6391   \n",
       "8       33       Puerto Ayora      EC     76.96     overcast clouds  -0.7393   \n",
       "9       37             Suleja      NG     74.82     overcast clouds   9.1758   \n",
       "\n",
       "        Lng                                Hotel Name  \n",
       "0  -42.0278                       Pousada Porto Praia  \n",
       "1  102.2655                      Grage Hotel Bengkulu  \n",
       "2 -134.9692                           People ThankYou  \n",
       "3  -41.0511                   Pousada Porto De Canoas  \n",
       "4   80.5353                    Amaloh Boutique Resort  \n",
       "5  149.2000                 International Lodge Motel  \n",
       "6  116.8463                      ibis Styles Karratha  \n",
       "7 -120.4579  Holiday Inn Express Lompoc, an IHG Hotel  \n",
       "8  -90.3518                 Finch Bay Galapagos Hotel  \n",
       "9    7.1808                                Capy Motel  "
      ]
     },
     "execution_count": 2,
     "metadata": {},
     "output_type": "execute_result"
    }
   ],
   "source": [
    "# 1. Read the WeatherPy_vacation.csv into a DataFrame.\n",
    "vacation_df = pd.read_csv(\"Vacation_Search/WeatherPy_vacation.csv\")\n",
    "vacation_df.head(10)"
   ]
  },
  {
   "cell_type": "code",
   "execution_count": 3,
   "metadata": {},
   "outputs": [],
   "source": [
    "info_box_template = \"\"\"\n",
    "<dl>\n",
    "<dt>Hotel Name</dt><dd>{Hotel Name}</dd>\n",
    "<dt>City</dt><dd>{City}</dd>\n",
    "<dt>Country</dt><dd>{Country}</dd>\n",
    "<dt>Max Temp</dt><dd>{Max Temp} °F</dd>\n",
    "</dl>\n",
    "\"\"\"\n",
    "# Store the DataFrame Row.\n",
    "hotel_info = [info_box_template.format(**row) for index, row in vacation_df.iterrows()]\n"
   ]
  },
  {
   "cell_type": "code",
   "execution_count": 4,
   "metadata": {},
   "outputs": [
    {
     "data": {
      "application/vnd.jupyter.widget-view+json": {
       "model_id": "7a88290cc50c46dd9e3d7f17d6a8e2ed",
       "version_major": 2,
       "version_minor": 0
      },
      "text/plain": [
       "Figure(layout=FigureLayout(height='420px'))"
      ]
     },
     "metadata": {},
     "output_type": "display_data"
    }
   ],
   "source": [
    "locations = vacation_df[[\"Lat\", \"Lng\"]]\n",
    "max_temp = vacation_df[\"Max Temp\"]\n",
    "fig = gmaps.figure(center=(30.0, 31.0), zoom_level=1.5)\n",
    "heat_layer = gmaps.heatmap_layer(locations, weights=max_temp,dissipating=False,\n",
    "             max_intensity=300, point_radius=4)\n",
    "marker_layer = gmaps.marker_layer(locations, info_box_content=hotel_info)\n",
    "fig.add_layer(heat_layer)\n",
    "fig.add_layer(marker_layer)\n",
    "\n",
    "# Call the figure to plot the data.\n",
    "fig"
   ]
  },
  {
   "cell_type": "code",
   "execution_count": 5,
   "metadata": {},
   "outputs": [],
   "source": [
    "vacation_start=vacation_df.loc[vacation_df.City==\"Great Bend\" , [\"Lat\" , \"Lng\"]].values[0]\n",
    "vacation_end=vacation_df.loc[vacation_df.City==\"Great Bend\" , [\"Lat\" , \"Lng\"]].values[0]                                                                 "
   ]
  },
  {
   "cell_type": "code",
   "execution_count": 6,
   "metadata": {},
   "outputs": [],
   "source": [
    "vacation_stop1=vacation_df.loc[vacation_df.City==\"Bismarck\" , [\"Lat\" , \"Lng\"]].values[0]\n",
    "vacation_stop2=vacation_df.loc[vacation_df.City==\"Saint Anthony\" , [\"Lat\" , \"Lng\"]].values[0]\n",
    "vacation_stop3=vacation_df.loc[vacation_df.City==\"Chippewa Falls\" , [\"Lat\" , \"Lng\"]].values[0]"
   ]
  },
  {
   "cell_type": "code",
   "execution_count": 7,
   "metadata": {
    "scrolled": true
   },
   "outputs": [
    {
     "data": {
      "application/vnd.jupyter.widget-view+json": {
       "model_id": "38455d6ff7264ac8bc388712750e2f16",
       "version_major": 2,
       "version_minor": 0
      },
      "text/plain": [
       "Figure(layout=FigureLayout(border='1px solid black', height='600px', padding='1px', width='1000px'))"
      ]
     },
     "metadata": {},
     "output_type": "display_data"
    }
   ],
   "source": [
    "figure_layout = {\n",
    "    'width': '1000px',\n",
    "    'height': '600px',\n",
    "    'border': '1px solid black',\n",
    "    'padding': '1px'\n",
    "}\n",
    "\n",
    "fig = gmaps.figure(layout=figure_layout, map_type='HYBRID')\n",
    "directions = gmaps.directions_layer(\n",
    "     vacation_start,vacation_end,waypoints=[vacation_stop1,vacation_stop2,vacation_stop3],\n",
    "     travel_mode = 'DRIVING')\n",
    "fig.add_layer(directions)\n",
    "fig"
   ]
  },
  {
   "cell_type": "code",
   "execution_count": 8,
   "metadata": {},
   "outputs": [],
   "source": [
    "start=vacation_df.loc[vacation_df.City==\"Great Bend\" ,:]\n",
    "stop1=vacation_df.loc[vacation_df.City==\"Bismarck\" ,:]\n",
    "stop2=vacation_df.loc[vacation_df.City==\"Saint Anthony\" ,:]\n",
    "stop3=vacation_df.loc[vacation_df.City==\"Chippewa Falls\" ,:]"
   ]
  },
  {
   "cell_type": "code",
   "execution_count": 9,
   "metadata": {},
   "outputs": [
    {
     "data": {
      "text/html": [
       "<div>\n",
       "<style scoped>\n",
       "    .dataframe tbody tr th:only-of-type {\n",
       "        vertical-align: middle;\n",
       "    }\n",
       "\n",
       "    .dataframe tbody tr th {\n",
       "        vertical-align: top;\n",
       "    }\n",
       "\n",
       "    .dataframe thead th {\n",
       "        text-align: right;\n",
       "    }\n",
       "</style>\n",
       "<table border=\"1\" class=\"dataframe\">\n",
       "  <thead>\n",
       "    <tr style=\"text-align: right;\">\n",
       "      <th></th>\n",
       "      <th>City_ID</th>\n",
       "      <th>City</th>\n",
       "      <th>Country</th>\n",
       "      <th>Max Temp</th>\n",
       "      <th>Weather Discription</th>\n",
       "      <th>Lat</th>\n",
       "      <th>Lng</th>\n",
       "      <th>Hotel Name</th>\n",
       "    </tr>\n",
       "  </thead>\n",
       "  <tbody>\n",
       "    <tr>\n",
       "      <th>0</th>\n",
       "      <td>400</td>\n",
       "      <td>Great Bend</td>\n",
       "      <td>US</td>\n",
       "      <td>77.61</td>\n",
       "      <td>clear sky</td>\n",
       "      <td>38.3645</td>\n",
       "      <td>-98.7648</td>\n",
       "      <td>Best Western Angus Inn</td>\n",
       "    </tr>\n",
       "    <tr>\n",
       "      <th>1</th>\n",
       "      <td>547</td>\n",
       "      <td>Bismarck</td>\n",
       "      <td>US</td>\n",
       "      <td>75.65</td>\n",
       "      <td>clear sky</td>\n",
       "      <td>46.8083</td>\n",
       "      <td>-100.7837</td>\n",
       "      <td>Ramkota Hotel &amp; Conference Center</td>\n",
       "    </tr>\n",
       "    <tr>\n",
       "      <th>2</th>\n",
       "      <td>213</td>\n",
       "      <td>Saint Anthony</td>\n",
       "      <td>US</td>\n",
       "      <td>72.84</td>\n",
       "      <td>clear sky</td>\n",
       "      <td>45.0205</td>\n",
       "      <td>-93.2180</td>\n",
       "      <td>Holiday Inn Express Roseville-St. Paul</td>\n",
       "    </tr>\n",
       "    <tr>\n",
       "      <th>3</th>\n",
       "      <td>408</td>\n",
       "      <td>Chippewa Falls</td>\n",
       "      <td>US</td>\n",
       "      <td>72.37</td>\n",
       "      <td>clear sky</td>\n",
       "      <td>44.9369</td>\n",
       "      <td>-91.3929</td>\n",
       "      <td>AmericInn by Wyndham Chippewa Falls</td>\n",
       "    </tr>\n",
       "  </tbody>\n",
       "</table>\n",
       "</div>"
      ],
      "text/plain": [
       "   City_ID            City Country  Max Temp Weather Discription      Lat  \\\n",
       "0      400      Great Bend      US     77.61           clear sky  38.3645   \n",
       "1      547        Bismarck      US     75.65           clear sky  46.8083   \n",
       "2      213   Saint Anthony      US     72.84           clear sky  45.0205   \n",
       "3      408  Chippewa Falls      US     72.37           clear sky  44.9369   \n",
       "\n",
       "        Lng                              Hotel Name  \n",
       "0  -98.7648                  Best Western Angus Inn  \n",
       "1 -100.7837       Ramkota Hotel & Conference Center  \n",
       "2  -93.2180  Holiday Inn Express Roseville-St. Paul  \n",
       "3  -91.3929     AmericInn by Wyndham Chippewa Falls  "
      ]
     },
     "execution_count": 9,
     "metadata": {},
     "output_type": "execute_result"
    }
   ],
   "source": [
    "itinerary_df = pd.concat([start,stop1,stop2,stop3],ignore_index=True)\n",
    "itinerary_df"
   ]
  },
  {
   "cell_type": "code",
   "execution_count": 10,
   "metadata": {},
   "outputs": [],
   "source": [
    "info_box_template = \"\"\"\n",
    "<dl>\n",
    "<dt>Hotel Name</dt><dd>{Hotel Name}</dd>\n",
    "<dt>City</dt><dd>{City}</dd>\n",
    "<dt>Country</dt><dd>{Country}</dd>\n",
    "<dt>Max Temp</dt><dd>{Max Temp} °F</dd>\n",
    "</dl>\n",
    "\"\"\"\n",
    "# Store the DataFrame Row.\n",
    "Travel_info = [info_box_template.format(**row) for index, row in itinerary_df.iterrows()]\n"
   ]
  },
  {
   "cell_type": "code",
   "execution_count": 11,
   "metadata": {},
   "outputs": [
    {
     "data": {
      "application/vnd.jupyter.widget-view+json": {
       "model_id": "f155b44ab34f46f9ad6e887a6aa8e0b4",
       "version_major": 2,
       "version_minor": 0
      },
      "text/plain": [
       "Figure(layout=FigureLayout(height='420px'))"
      ]
     },
     "metadata": {},
     "output_type": "display_data"
    }
   ],
   "source": [
    "locations = itinerary_df[[\"Lat\", \"Lng\"]]\n",
    "max_temp = itinerary_df[\"Max Temp\"]\n",
    "fig = gmaps.figure(center=(30.0, 31.0), zoom_level=1.5)\n",
    "heat_layer = gmaps.heatmap_layer(locations, weights=max_temp,dissipating=False,\n",
    "             max_intensity=300, point_radius=4)\n",
    "marker_layer = gmaps.marker_layer(locations, info_box_content=Travel_info)\n",
    "fig.add_layer(heat_layer)\n",
    "fig.add_layer(marker_layer)\n",
    "\n",
    "# Call the figure to plot the data.\n",
    "fig"
   ]
  },
  {
   "cell_type": "code",
   "execution_count": null,
   "metadata": {},
   "outputs": [],
   "source": []
  }
 ],
 "metadata": {
  "kernelspec": {
   "display_name": "PythonData",
   "language": "python",
   "name": "pythondata"
  },
  "language_info": {
   "codemirror_mode": {
    "name": "ipython",
    "version": 3
   },
   "file_extension": ".py",
   "mimetype": "text/x-python",
   "name": "python",
   "nbconvert_exporter": "python",
   "pygments_lexer": "ipython3",
   "version": "3.7.11"
  },
  "latex_envs": {
   "LaTeX_envs_menu_present": true,
   "autoclose": false,
   "autocomplete": true,
   "bibliofile": "biblio.bib",
   "cite_by": "apalike",
   "current_citInitial": 1,
   "eqLabelWithNumbers": true,
   "eqNumInitial": 1,
   "hotkeys": {
    "equation": "Ctrl-E",
    "itemize": "Ctrl-I"
   },
   "labels_anchors": false,
   "latex_user_defs": false,
   "report_style_numbering": false,
   "user_envs_cfg": false
  }
 },
 "nbformat": 4,
 "nbformat_minor": 2
}
